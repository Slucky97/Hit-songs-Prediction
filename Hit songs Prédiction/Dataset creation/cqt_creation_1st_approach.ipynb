{
  "nbformat": 4,
  "nbformat_minor": 0,
  "metadata": {
    "colab": {
      "provenance": []
    },
    "kernelspec": {
      "name": "python3",
      "display_name": "Python 3"
    },
    "language_info": {
      "name": "python"
    }
  },
  "cells": [
    {
      "cell_type": "code",
      "execution_count": null,
      "metadata": {
        "colab": {
          "base_uri": "https://localhost:8080/"
        },
        "id": "31Yd3bAqIdM7",
        "outputId": "226d2e51-d9f8-46cb-ba55-6fb61fb1fb49"
      },
      "outputs": [
        {
          "output_type": "stream",
          "name": "stdout",
          "text": [
            "Requirement already satisfied: librosa in /usr/local/lib/python3.10/dist-packages (0.10.2.post1)\n",
            "Requirement already satisfied: audioread>=2.1.9 in /usr/local/lib/python3.10/dist-packages (from librosa) (3.0.1)\n",
            "Requirement already satisfied: numpy!=1.22.0,!=1.22.1,!=1.22.2,>=1.20.3 in /usr/local/lib/python3.10/dist-packages (from librosa) (1.25.2)\n",
            "Requirement already satisfied: scipy>=1.2.0 in /usr/local/lib/python3.10/dist-packages (from librosa) (1.11.4)\n",
            "Requirement already satisfied: scikit-learn>=0.20.0 in /usr/local/lib/python3.10/dist-packages (from librosa) (1.2.2)\n",
            "Requirement already satisfied: joblib>=0.14 in /usr/local/lib/python3.10/dist-packages (from librosa) (1.4.2)\n",
            "Requirement already satisfied: decorator>=4.3.0 in /usr/local/lib/python3.10/dist-packages (from librosa) (4.4.2)\n",
            "Requirement already satisfied: numba>=0.51.0 in /usr/local/lib/python3.10/dist-packages (from librosa) (0.58.1)\n",
            "Requirement already satisfied: soundfile>=0.12.1 in /usr/local/lib/python3.10/dist-packages (from librosa) (0.12.1)\n",
            "Requirement already satisfied: pooch>=1.1 in /usr/local/lib/python3.10/dist-packages (from librosa) (1.8.2)\n",
            "Requirement already satisfied: soxr>=0.3.2 in /usr/local/lib/python3.10/dist-packages (from librosa) (0.3.7)\n",
            "Requirement already satisfied: typing-extensions>=4.1.1 in /usr/local/lib/python3.10/dist-packages (from librosa) (4.12.2)\n",
            "Requirement already satisfied: lazy-loader>=0.1 in /usr/local/lib/python3.10/dist-packages (from librosa) (0.4)\n",
            "Requirement already satisfied: msgpack>=1.0 in /usr/local/lib/python3.10/dist-packages (from librosa) (1.0.8)\n",
            "Requirement already satisfied: packaging in /usr/local/lib/python3.10/dist-packages (from lazy-loader>=0.1->librosa) (24.1)\n",
            "Requirement already satisfied: llvmlite<0.42,>=0.41.0dev0 in /usr/local/lib/python3.10/dist-packages (from numba>=0.51.0->librosa) (0.41.1)\n",
            "Requirement already satisfied: platformdirs>=2.5.0 in /usr/local/lib/python3.10/dist-packages (from pooch>=1.1->librosa) (4.2.2)\n",
            "Requirement already satisfied: requests>=2.19.0 in /usr/local/lib/python3.10/dist-packages (from pooch>=1.1->librosa) (2.31.0)\n",
            "Requirement already satisfied: threadpoolctl>=2.0.0 in /usr/local/lib/python3.10/dist-packages (from scikit-learn>=0.20.0->librosa) (3.5.0)\n",
            "Requirement already satisfied: cffi>=1.0 in /usr/local/lib/python3.10/dist-packages (from soundfile>=0.12.1->librosa) (1.16.0)\n",
            "Requirement already satisfied: pycparser in /usr/local/lib/python3.10/dist-packages (from cffi>=1.0->soundfile>=0.12.1->librosa) (2.22)\n",
            "Requirement already satisfied: charset-normalizer<4,>=2 in /usr/local/lib/python3.10/dist-packages (from requests>=2.19.0->pooch>=1.1->librosa) (3.3.2)\n",
            "Requirement already satisfied: idna<4,>=2.5 in /usr/local/lib/python3.10/dist-packages (from requests>=2.19.0->pooch>=1.1->librosa) (3.7)\n",
            "Requirement already satisfied: urllib3<3,>=1.21.1 in /usr/local/lib/python3.10/dist-packages (from requests>=2.19.0->pooch>=1.1->librosa) (2.0.7)\n",
            "Requirement already satisfied: certifi>=2017.4.17 in /usr/local/lib/python3.10/dist-packages (from requests>=2.19.0->pooch>=1.1->librosa) (2024.7.4)\n"
          ]
        }
      ],
      "source": [
        "!pip install librosa"
      ]
    },
    {
      "cell_type": "code",
      "source": [
        "import os\n",
        "import numpy as np\n",
        "import librosa\n",
        "import matplotlib.pyplot as plt\n",
        "from scipy.ndimage import zoom"
      ],
      "metadata": {
        "id": "ijnx3al5Itly"
      },
      "execution_count": null,
      "outputs": []
    },
    {
      "cell_type": "code",
      "source": [
        "#Fill the path where the mp3 files are\n",
        "streamed_path = '/content/drive/MyDrive/musics/mp3 hits/'\n",
        "non_streamed_path = '/content/drive/MyDrive/musics/mp3 non hits/'\n",
        "\n",
        "fs = 44100\n",
        "nfft = 2048\n",
        "overlap = 0.75\n",
        "hop_length = int(nfft * (1 - overlap))\n",
        "n_bins = 84\n",
        "mag_exp = 3\n",
        "cqt_threshold = -60\n",
        "target_shape = (256,1024)"
      ],
      "metadata": {
        "id": "JU0x22MhKZPf"
      },
      "execution_count": 1,
      "outputs": []
    },
    {
      "cell_type": "code",
      "source": [
        "# CQT function calculation in dB\n",
        "def calc_cqt(x,fs,hop_length, n_bins, mag_exp):\n",
        "    C = librosa.cqt(x, sr=fs, hop_length=hop_length, fmin=None, n_bins=n_bins)\n",
        "    C_mag = librosa.magphase(C)[0]**mag_exp\n",
        "    CdB = librosa.core.amplitude_to_db(C_mag ,ref=np.max)\n",
        "    return CdB"
      ],
      "metadata": {
        "id": "SdqiJEiGJz80"
      },
      "execution_count": null,
      "outputs": []
    },
    {
      "cell_type": "code",
      "source": [
        "#We create a thresholded cqt. All values below thres values will be equal to -120\n",
        "def cqt_thresholded(cqt, thres):\n",
        "  new_cqt = np.copy(cqt)\n",
        "  new_cqt[new_cqt < thres] = -120\n",
        "  return new_cqt"
      ],
      "metadata": {
        "id": "jVshbVrbKCe9"
      },
      "execution_count": null,
      "outputs": []
    },
    {
      "cell_type": "code",
      "source": [
        "def cqt_generation(sr=fs, hop_length=hop_length, n_bins=n_bins, mag_exp=mag_exp, cqt_threshold=cqt_threshold, target_shape=target_shape, streamed_path=streamed_path, non_streamed_path=non_streamed_path,path_to_store_streamed='/content/drive/MyDrive/musics/new_cqt hits/',path_to_store_non_streamed='content/drive/MyDrive/musics/new_cqt non hits/'):\n",
        "\n",
        "  streamed_file_names = os.listdir(streamed_path)\n",
        "  non_streamed_file_names = os.listdir(non_streamed_path)\n",
        "\n",
        "  #There is 150 data in /musics/mp3 hits and /musics/mp3 non hits\n",
        "  for i in range(len(streamed_file_names)):\n",
        "    print(i)\n",
        "\n",
        "    #For both files, we only take the first 40 seconds\n",
        "    signal_streamed, _ = librosa.load(streamed_path + streamed_file_names[i], sr=fs, mono=True) #We load the i_th element of mp3 hits and convert it to a mono signal\n",
        "    signal_non_streamed, _ = librosa.load(non_streamed_path + non_streamed_file_names[i], sr=fs, mono=True) ##We load the i_th element of mp3 non hits and convert it to a mono signal\n",
        "\n",
        "    #We remove the first ten seconds\n",
        "    signal_streamed = signal_streamed[10*fs:]\n",
        "    signal_non_streamed = signal_non_streamed[10*fs:]\n",
        "\n",
        "    #cqt\n",
        "    cqt_streamed = calc_cqt(signal_streamed, fs, hop_length, n_bins, mag_exp)\n",
        "    cqt_non_streamed = calc_cqt(signal_non_streamed, fs, hop_length, n_bins, mag_exp)\n",
        "\n",
        "    #We call the cqt threshold function\n",
        "    cqt_streamed = cqt_thresholded(cqt_streamed, cqt_threshold)\n",
        "    cqt_non_streamed = cqt_thresholded(cqt_non_streamed, cqt_threshold)\n",
        "\n",
        "    ##Resize the axis of the spectrograms. axis are very long (len(signal)/hop_length) So we resize them in a better shape for CNN\n",
        "    cqt_streamed = zoom(cqt_streamed, (target_shape[0] / cqt_streamed.shape[0], target_shape[1] / cqt_streamed.shape[1]))\n",
        "    cqt_non_streamed = zoom(cqt_non_streamed, (target_shape[0] / cqt_non_streamed.shape[0], target_shape[1] / cqt_non_streamed.shape[1]))\n",
        "\n",
        "    #For some reasons, the results of the 2 previous lines give us a rotated matrix. So we put it in the right rotation\n",
        "    cqt_streamed = cqt_streamed.T\n",
        "    cqt_non_streamed = cqt_non_streamed.T\n",
        "\n",
        "    cqt_streamed = np.rot90(cqt_streamed)\n",
        "    cqt_non_streamed = np.rot90(cqt_non_streamed)\n",
        "\n",
        "    #Save cqt - There will be used in a CNN\n",
        "    plt.imsave(path_to_store_streamed+streamed_file_names[i][:-4]+'.png', cqt_streamed, cmap='coolwarm')\n",
        "    plt.imsave(path_to_store_non_streamed+non_streamed_file_names[i][:-4]+'.png', cqt_non_streamed, cmap='coolwarm')\n",
        "\n",
        "\n"
      ],
      "metadata": {
        "id": "-Ni9QMHUIzFN"
      },
      "execution_count": 2,
      "outputs": []
    },
    {
      "cell_type": "code",
      "source": [
        "cqt_generation()"
      ],
      "metadata": {
        "colab": {
          "base_uri": "https://localhost:8080/"
        },
        "id": "wLaqqxHROr6R",
        "outputId": "5b618f0f-7df3-443c-f039-d49bb40dba1a"
      },
      "execution_count": null,
      "outputs": [
        {
          "output_type": "stream",
          "name": "stdout",
          "text": [
            "0\n",
            "1\n",
            "2\n",
            "3\n",
            "4\n",
            "5\n",
            "6\n",
            "7\n",
            "8\n",
            "9\n",
            "10\n",
            "11\n",
            "12\n",
            "13\n",
            "14\n",
            "15\n",
            "16\n",
            "17\n",
            "18\n",
            "19\n",
            "20\n",
            "21\n",
            "22\n",
            "23\n",
            "24\n",
            "25\n",
            "26\n",
            "27\n",
            "28\n",
            "29\n",
            "30\n",
            "31\n",
            "32\n",
            "33\n",
            "34\n",
            "35\n",
            "36\n",
            "37\n",
            "38\n",
            "39\n",
            "40\n",
            "41\n",
            "42\n",
            "43\n",
            "44\n",
            "45\n",
            "46\n",
            "47\n",
            "48\n",
            "49\n",
            "50\n",
            "51\n",
            "52\n",
            "53\n",
            "54\n",
            "55\n",
            "56\n",
            "57\n",
            "58\n",
            "59\n",
            "60\n",
            "61\n",
            "62\n",
            "63\n",
            "64\n",
            "65\n",
            "66\n",
            "67\n",
            "68\n",
            "69\n",
            "70\n",
            "71\n",
            "72\n",
            "73\n",
            "74\n",
            "75\n",
            "76\n",
            "77\n",
            "78\n",
            "79\n",
            "80\n",
            "81\n",
            "82\n",
            "83\n",
            "84\n",
            "85\n",
            "86\n",
            "87\n",
            "88\n",
            "89\n",
            "90\n",
            "91\n",
            "92\n",
            "93\n",
            "94\n",
            "95\n",
            "96\n",
            "97\n",
            "98\n",
            "99\n",
            "100\n",
            "101\n",
            "102\n",
            "103\n",
            "104\n",
            "105\n",
            "106\n",
            "107\n",
            "108\n",
            "109\n",
            "110\n",
            "111\n",
            "112\n",
            "113\n",
            "114\n",
            "115\n",
            "116\n",
            "117\n",
            "118\n",
            "119\n",
            "120\n",
            "121\n",
            "122\n",
            "123\n",
            "124\n",
            "125\n",
            "126\n",
            "127\n",
            "128\n",
            "129\n",
            "130\n",
            "131\n",
            "132\n",
            "133\n",
            "134\n",
            "135\n",
            "136\n",
            "137\n",
            "138\n",
            "139\n",
            "140\n",
            "141\n",
            "142\n",
            "143\n",
            "144\n",
            "145\n",
            "146\n",
            "147\n",
            "148\n"
          ]
        }
      ]
    },
    {
      "cell_type": "code",
      "source": [],
      "metadata": {
        "id": "RnhFpmhNUma1"
      },
      "execution_count": null,
      "outputs": []
    }
  ]
}