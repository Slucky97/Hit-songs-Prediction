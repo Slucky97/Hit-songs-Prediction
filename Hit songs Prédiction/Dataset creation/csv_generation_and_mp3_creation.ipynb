{
  "cells": [
    {
      "cell_type": "code",
      "execution_count": 41,
      "metadata": {
        "colab": {
          "base_uri": "https://localhost:8080/"
        },
        "id": "QMLfYCDKzo5b",
        "outputId": "cf9e2d1e-9cbe-4568-f135-e49b807803e7"
      },
      "outputs": [
        {
          "name": "stdout",
          "output_type": "stream",
          "text": [
            "Requirement already satisfied: pytube in /usr/local/lib/python3.10/dist-packages (15.0.0)\n"
          ]
        }
      ],
      "source": [
        "!pip install pytube"
      ]
    },
    {
      "cell_type": "code",
      "execution_count": 42,
      "metadata": {
        "id": "L8UQJRE2zWzr"
      },
      "outputs": [],
      "source": [
        "import os\n",
        "from requests import post, get\n",
        "import base64\n",
        "import json\n",
        "import pandas as pd\n",
        "from googleapiclient.discovery import build\n",
        "import pytube\n",
        "import moviepy.editor as mp\n",
        "from scipy.ndimage import zoom\n",
        "import matplotlib.pyplot as plt\n",
        "import numpy as np"
      ]
    },
    {
      "cell_type": "markdown",
      "metadata": {
        "id": "0Eh-UbphzvOt"
      },
      "source": [
        "\n",
        "    The process here, is to connect to the spotify API, get the differents\n",
        "    songs names we need, use them in a the search method from youtube API\n",
        "    The utimate goal is to download a mp3 version of the videos.\n",
        "    These mp3 files are needed to create spectrograms.\n",
        "    Note that this is only for educational purpose.\n",
        "    We encourage you to listen to music through the different legal ways (online on youtube, or platform like spotify,deezer...)\n",
        "    "
      ]
    },
    {
      "cell_type": "code",
      "execution_count": 43,
      "metadata": {
        "id": "msFoUd9uzh9U"
      },
      "outputs": [],
      "source": [
        "#First, you have to get your Spotify API ID and Client_secret. Get them by following the spotify API tutorial\n",
        "client_id = ''\n",
        "client_secret = ''"
      ]
    },
    {
      "cell_type": "code",
      "execution_count": 44,
      "metadata": {
        "id": "Y5nxgwAU0MHz"
      },
      "outputs": [],
      "source": [
        "#Also get your Youtube analytics API key\n",
        "youtube_api_key = ''"
      ]
    },
    {
      "cell_type": "code",
      "execution_count": 45,
      "metadata": {
        "id": "TK3-accX0Vrc"
      },
      "outputs": [],
      "source": [
        "#This function is for token generation\n",
        "def get_token():\n",
        "    auth_string = client_id + \":\" + client_secret\n",
        "    auth_bytes = auth_string.encode(\"utf-8\")\n",
        "    auth_base64 = str(base64.b64encode(auth_bytes), \"utf-8\")\n",
        "\n",
        "    url = \"https://accounts.spotify.com/api/token\"\n",
        "\n",
        "    headers = {\n",
        "        \"Authorization\" : \"Basic \" + auth_base64,\n",
        "        \"Content-Type\" : \"application/x-www-form-urlencoded\"\n",
        "    }\n",
        "\n",
        "    data = {\"grant_type\": \"client_credentials\"}\n",
        "    result = post(url, headers=headers, data = data)\n",
        "    json_result = json.loads(result.content)\n",
        "    token = json_result[\"access_token\"]\n",
        "    return token"
      ]
    },
    {
      "cell_type": "code",
      "execution_count": 46,
      "metadata": {
        "id": "BD7TcjjY0ZAg"
      },
      "outputs": [],
      "source": [
        "#This function takes a token and return a header.This is needed since a header is essential\n",
        "#when trying to make a request\n",
        "def get_auth_header(token):\n",
        "    return {\"Authorization\" : \"Bearer \" + token}"
      ]
    },
    {
      "cell_type": "code",
      "execution_count": 47,
      "metadata": {
        "id": "pHq7ugjf0iBB"
      },
      "outputs": [],
      "source": [
        "#This function returns a dataframe thats contains all the\n",
        "#songs in a playlist. It contains information of the\n",
        "#songs name, id, preview url, songs's popularity\n",
        "def playlist_to_dataframe(token,playlist_id):\n",
        "\n",
        "    url = f\"https://api.spotify.com/v1/playlists/{playlist_id}/tracks\"\n",
        "    headers = get_auth_header(token)\n",
        "    limit = 100\n",
        "    offset = 0\n",
        "    while True:\n",
        "\n",
        "        query = f\"?playlist_id={playlist_id}&fields=items(track(artists(id,name),id,name,popularity,preview_url))&limit={limit}&offset={offset}\"\n",
        "        query_url = url + query\n",
        "        result = get(query_url, headers=headers)\n",
        "        if result.status_code != 200:\n",
        "            print(f\"Erreur {result.status_code}\")\n",
        "            break\n",
        "        json_result = json.loads(result.content)\n",
        "        if not json_result['items']:\n",
        "            break\n",
        "\n",
        "        if offset == 0:\n",
        "            #Creation dataframe de sortie\n",
        "            df = pd.json_normalize(json_result['items'])\n",
        "\n",
        "        #Concaténation des dataframes\n",
        "        elif offset != 0:\n",
        "            df = pd.concat([df,pd.json_normalize(json_result['items'])],\n",
        "                           axis=0, ignore_index=True)\n",
        "        offset+=limit\n",
        "\n",
        "    return df"
      ]
    },
    {
      "cell_type": "code",
      "execution_count": 91,
      "metadata": {
        "id": "6GWXAZIK0qLO"
      },
      "outputs": [],
      "source": [
        "#This function takes the name of songs and artists in dataframe (dataframe generated by playlist_to_dataframe) and return the list of video url in youtube API\n",
        "def search_music_youtube(data, key_api):\n",
        "\n",
        "    #We set the index based on track.name column\n",
        "    data.set_index('track.name',inplace=True)\n",
        "\n",
        "    youtube = build('youtube','v3',developerKey=key_api)\n",
        "    video_url = []\n",
        "    try:\n",
        "        for track_name in data.index:\n",
        "\n",
        "            request = youtube.search().list(\n",
        "                part='id',\n",
        "                maxResults=1,\n",
        "                q=track_name+ \" \" + data['track.artists'][track_name][0]['name']\n",
        "            )\n",
        "\n",
        "            response = request.execute()\n",
        "            for item in response.get('items',[]):\n",
        "                if item['id']['kind'] == 'youtube#video':\n",
        "                    url = f\"https://www.youtube.com/watch?v={item['id']['videoId']}\"\n",
        "                    video_url.append(url)\n",
        "    except:\n",
        "        pass\n",
        "    data.reset_index(inplace=True)\n",
        "    return video_url"
      ]
    },
    {
      "cell_type": "code",
      "execution_count": 92,
      "metadata": {
        "id": "ngbi6Qj61VTq"
      },
      "outputs": [],
      "source": [
        "#This function take a list of video'url (list created with search_music_youtube fucntion), download only the audio in a mp3 format\n",
        "def download_convert_to_mp3(video_url,dest='.'):\n",
        "\n",
        "    yt = pytube.YouTube(video_url)\n",
        "    #We filter to only take the audio\n",
        "    video = yt.streams.filter(only_audio=True).first()\n",
        "\n",
        "    #The destination where the downloaded files will be\n",
        "    destination = dest\n",
        "    out_file = video.download(output_path=dest)\n",
        "    base, ext = os.path.splitext(out_file)\n",
        "\n",
        "    #The extension we want for the downloaded file\n",
        "    new_file = base + '.mp3'\n",
        "\n",
        "    if os.path.exists(new_file) == False:\n",
        "    #The conversion\n",
        "        clip = mp.AudioFileClip(out_file)\n",
        "        clip.write_audiofile(new_file)\n",
        "        clip.close()\n",
        "\n",
        "    os.remove(out_file)\n"
      ]
    },
    {
      "cell_type": "code",
      "execution_count": 93,
      "metadata": {
        "id": "dBUf_hYr4bKj"
      },
      "outputs": [],
      "source": [
        "#Returns the ids from a dataframe generated by the function playlist_to_dataframe\n",
        "def get_ids_from_dataframe(data):\n",
        "\n",
        "    #ids will be a list of string. Each strings contains ids of the differents songs. The ids are separated by a comma. This will be used to get the songs analysis\n",
        "    #This is needed because the spotify can only return analysis for maximum of 100 ids. If the playlist has more than 100 songs it can be problematic\n",
        "    list_ids = []\n",
        "    ids=''\n",
        "    i=0\n",
        "    data.set_index(data['track.id'], inplace=True)\n",
        "    for id in data.index:\n",
        "        ids+= f\"{id},\"\n",
        "        i+=1\n",
        "        if i%100 == 0:\n",
        "            #Since there will be a comma at the end of the ids string, we take all character except the last, which is obviously a comma\n",
        "            ids = ids[:-1]\n",
        "            list_ids.append(ids)\n",
        "            ids=''\n",
        "\n",
        "    if len(ids)!=0:\n",
        "        ids = ids[:-1]\n",
        "        list_ids.append(ids)\n",
        "\n",
        "    #Since there will be a comma at the end of the ids string, we take all character except the last, which is obviously a comma\n",
        "    return list_ids"
      ]
    },
    {
      "cell_type": "code",
      "execution_count": 94,
      "metadata": {
        "id": "TM8MYUaJ4exn"
      },
      "outputs": [],
      "source": [
        "#This function returns a dataframe with audio_featires analysis for all the songs_ids given in parameter\n",
        "def get_audio_analysis_from_ids(token, list_ids):\n",
        "\n",
        "    #Create an empty dataframe\n",
        "    dico = {}\n",
        "    df = pd.DataFrame(dico)\n",
        "    for ids in list_ids:\n",
        "        url = f\"https://api.spotify.com/v1/audio-features\"\n",
        "        headers = get_auth_header(token)\n",
        "        query = f\"?ids={ids}\"\n",
        "        query_url =url + query\n",
        "        result = get(query_url, headers=headers)\n",
        "        json_result = json.loads(result.content)\n",
        "        df = pd.concat([df,pd.json_normalize(json_result['audio_features'])],axis=0,ignore_index=True)\n",
        "    return df"
      ]
    },
    {
      "cell_type": "code",
      "execution_count": 108,
      "metadata": {
        "id": "hNr_VVLS2djZ"
      },
      "outputs": [],
      "source": [
        "#This function gets the analysis of all songs in a playlist and download the songs. Those songs will be used for spectrogram generation\n",
        "def all_data_creation(playlist_id, mp3_download_path, playlist_analysis_path, csv_file_name):\n",
        "\n",
        "  #We get the token\n",
        "  token = get_token()\n",
        "\n",
        "  #We create a dataframe from the playlist\n",
        "  data = playlist_to_dataframe(token,playlist_id)\n",
        "\n",
        "  #We get the youtube video url of all songs in the dataframe\n",
        "  video_url = search_music_youtube(data,youtube_api_key)\n",
        "\n",
        "  #We download the audio in mp3 format\n",
        "  for url in video_url:\n",
        "    try:\n",
        "      download_convert_to_mp3(url,mp3_download_path)\n",
        "    except Exception as error:\n",
        "      print(\"There is an error with pytube\")\n",
        "      print(error)\n",
        "      break\n",
        "\n",
        "  for i in range(len(data)):\n",
        "    #This track.artists columns contains information in JSON format. We only need to get the artist name\n",
        "    data['track.artists'][i] = data['track.artists'][i][0]['name']\n",
        "\n",
        "  #We create a dataframe that will take the name of songs, the artist name and the url\n",
        "\n",
        "  columns_to_take = ['track.artists', 'track.name']\n",
        "  colmuns_selected = data[columns_to_take]\n",
        "  colmuns_selected['url'] = video_url\n",
        "  colmuns_selected = colmuns_selected.rename(columns={'track.artists':'Artistes','track.name':'songs'})\n",
        "\n",
        "  list_ids = get_ids_from_dataframe(data)\n",
        "  df = get_audio_analysis_from_ids(token,list_ids)\n",
        "\n",
        "  #We export the df in csv\n",
        "  path_df = playlist_analysis_path + csv_file_name\n",
        "  path_col = playlist_analysis_path + csv_file_name[:-4] + '_url.xlsx'\n",
        "  colmuns_selected.to_excel(path_col, index=False)\n",
        "  df.to_csv(path_df, index=False)\n",
        "\n",
        "  print(\"The files were created\")"
      ]
    },
    {
      "cell_type": "markdown",
      "metadata": {
        "id": "vhMeOdPjDk36"
      },
      "source": [
        "If you get this error : RegexMatchError: get_throttling_function_name: could not find match for multiple, it means that you have to wait for pytube to get a correction or you can correct it yourself (there are information on stackoverflow for this error). This error is due to the fact that youtube makes some change very often and pytube sometimes is not up to date."
      ]
    },
    {
      "cell_type": "code",
      "execution_count": 107,
      "metadata": {
        "colab": {
          "base_uri": "https://localhost:8080/"
        },
        "id": "bR5t8VbZ8sy1",
        "outputId": "fe8bfeaf-0246-401e-c939-f83b0c84e149"
      },
      "outputs": [
        {
          "name": "stdout",
          "output_type": "stream",
          "text": [
            "There is an error with pytube\n",
            "get_throttling_function_name: could not find match for multiple\n"
          ]
        },
        {
          "name": "stderr",
          "output_type": "stream",
          "text": [
            "WARNING:py.warnings:<ipython-input-106-5070c5c3e1e1>:23: SettingWithCopyWarning: \n",
            "A value is trying to be set on a copy of a slice from a DataFrame\n",
            "\n",
            "See the caveats in the documentation: https://pandas.pydata.org/pandas-docs/stable/user_guide/indexing.html#returning-a-view-versus-a-copy\n",
            "  data['track.artists'][i] = data['track.artists'][i][0]['name']\n",
            "\n",
            "WARNING:py.warnings:<ipython-input-106-5070c5c3e1e1>:23: SettingWithCopyWarning: \n",
            "A value is trying to be set on a copy of a slice from a DataFrame\n",
            "\n",
            "See the caveats in the documentation: https://pandas.pydata.org/pandas-docs/stable/user_guide/indexing.html#returning-a-view-versus-a-copy\n",
            "  data['track.artists'][i] = data['track.artists'][i][0]['name']\n",
            "\n",
            "WARNING:py.warnings:<ipython-input-106-5070c5c3e1e1>:29: SettingWithCopyWarning: \n",
            "A value is trying to be set on a copy of a slice from a DataFrame.\n",
            "Try using .loc[row_indexer,col_indexer] = value instead\n",
            "\n",
            "See the caveats in the documentation: https://pandas.pydata.org/pandas-docs/stable/user_guide/indexing.html#returning-a-view-versus-a-copy\n",
            "  colmuns_selected['url'] = video_url\n",
            "\n"
          ]
        },
        {
          "name": "stdout",
          "output_type": "stream",
          "text": [
            "There is an error with pytube\n",
            "get_throttling_function_name: could not find match for multiple\n",
            "The files were created\n"
          ]
        }
      ],
      "source": [
        "#THIS IS AN EXAMPLE TO SEE HOW THE DATACREATION WORKS\n",
        "\n",
        "#Get playlist id in spotify\n",
        "playlist_id = \"6WPtrHFSmeCNtjjlrtJWFy\"\n",
        "\n",
        "#For the mp3 download path, don't forget to add the last '/'\n",
        "mp3_download_path = \"/content/sample_data/\"\n",
        "\n",
        "#Fill the playlist_analysis_path\n",
        "playlist_analysis_path = \"/content/sample_data/\"\n",
        "\n",
        "#Fill the csv_file_name\n",
        "csv_file_name = \"playlist_analysis.csv\"\n",
        "\n",
        "all_data_creation(playlist_id, mp3_download_path, playlist_analysis_path, csv_file_name)"
      ]
    },
    {
      "cell_type": "code",
      "execution_count": null,
      "metadata": {
        "id": "G8R6RxH_nDmg"
      },
      "outputs": [],
      "source": []
    }
  ],
  "metadata": {
    "colab": {
      "provenance": []
    },
    "kernelspec": {
      "display_name": "Python 3",
      "name": "python3"
    },
    "language_info": {
      "name": "python"
    }
  },
  "nbformat": 4,
  "nbformat_minor": 0
}
