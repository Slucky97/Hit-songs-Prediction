{
  "nbformat": 4,
  "nbformat_minor": 0,
  "metadata": {
    "colab": {
      "provenance": [],
      "gpuType": "T4",
      "machine_shape": "hm"
    },
    "kernelspec": {
      "name": "python3",
      "display_name": "Python 3"
    },
    "language_info": {
      "name": "python"
    },
    "accelerator": "GPU"
  },
  "cells": [
    {
      "cell_type": "markdown",
      "source": [
        "# **MODELISATION 1ERE APPROCHE - MODEL FIRST APPROACH**"
      ],
      "metadata": {
        "id": "jXANCR_9WRAb"
      }
    },
    {
      "cell_type": "code",
      "execution_count": 93,
      "metadata": {
        "id": "Y93aE3AhWAcE"
      },
      "outputs": [],
      "source": [
        "#We import the libraries\n",
        "import os\n",
        "import numpy as np\n",
        "import pandas as pd\n",
        "import matplotlib.pyplot as plt\n",
        "from PIL import Image\n",
        "from sklearn.preprocessing import StandardScaler\n",
        "from sklearn.utils import shuffle\n",
        "import tensorflow as tf\n",
        "from tensorflow.keras.models import Model, Sequential\n",
        "from tensorflow.keras.layers import Input, Conv2D, MaxPooling2D, Flatten, Dense, Dropout, Concatenate\n",
        "from tensorflow.keras.callbacks import EarlyStopping\n",
        "from sklearn.pipeline import Pipeline\n",
        "from sklearn.compose import ColumnTransformer\n",
        "from sklearn.preprocessing import StandardScaler, OneHotEncoder\n",
        "from sklearn.ensemble import RandomForestClassifier, GradientBoostingClassifier\n",
        "from sklearn.model_selection import train_test_split, GridSearchCV\n",
        "from sklearn.metrics import classification_report, accuracy_score, confusion_matrix, roc_curve, roc_auc_score\n",
        "import statsmodels.api as sm\n",
        "import seaborn as sns\n",
        "import matplotlib.pyplot as plt"
      ]
    },
    {
      "cell_type": "code",
      "source": [
        "#Loading the data and showing the first 5 rows\n",
        "dataset_path = '/content/sample_data/dataset_ms_ls.xlsx'\n",
        "data = pd.read_excel(dataset_path)\n",
        "\n",
        "data.head()"
      ],
      "metadata": {
        "colab": {
          "base_uri": "https://localhost:8080/",
          "height": 365
        },
        "id": "tWLFLWmtWzif",
        "outputId": "e8758811-5163-43dc-81c6-75a6e7c43c15"
      },
      "execution_count": 2,
      "outputs": [
        {
          "output_type": "execute_result",
          "data": {
            "text/plain": [
              "                Artistes           songs  \\\n",
              "0      Natalie Imbruglia       On My Way   \n",
              "1  OFFICIAL HIGE DANDISM       Pretender   \n",
              "2            Bryan Adams   Summer Of '69   \n",
              "3               Fuse ODG      What it do   \n",
              "4             Édith Piaf  La vie en rose   \n",
              "\n",
              "                                           url                      id  \\\n",
              "0  https://www.youtube.com/watch?v=hhnBDkgLJPg  0DEJ9GEuWuGFMR1GhPORnY   \n",
              "1  https://www.youtube.com/watch?v=MbhyzQiRFXY  15HNdxGKNCIO9pgaY4n7FU   \n",
              "2  https://www.youtube.com/watch?v=eFjjO_lhf9c  0GONea6G2XdnHWjNZd6zt3   \n",
              "3  https://www.youtube.com/watch?v=gTyLD5gHAbg  2V3mQTPHYkxbkYxXMjnKFA   \n",
              "4  https://www.youtube.com/watch?v=rzeLynj1GYM  4FmiciU3ZmfgABlbCSXcWw   \n",
              "\n",
              "                          image_path  Streamed/Non-Streamed  danceability  \\\n",
              "0                      On My Way.png                      0         0.633   \n",
              "1  Pretender (歌詞) official髭男dism.png                      1         0.538   \n",
              "2                   Summer Of 69.png                      1         0.509   \n",
              "3                     What It Do.png                      0         0.834   \n",
              "4                 La Vie en rose.png                      1         0.390   \n",
              "\n",
              "   energy  key  loudness  mode  speechiness  acousticness  instrumentalness  \\\n",
              "0   0.690    7    -4.397     1       0.0298       0.02460          0.000005   \n",
              "1   0.869    8    -3.464     1       0.0275       0.04700          0.000000   \n",
              "2   0.834    2    -6.205     1       0.0386       0.01830          0.000000   \n",
              "3   0.878    7    -3.369     1       0.1200       0.00313          0.149000   \n",
              "4   0.302    8    -8.687     1       0.0321       0.98400          0.000000   \n",
              "\n",
              "   liveness  valence    tempo  time_signature  \n",
              "0    0.1310    0.631  103.003               4  \n",
              "1    0.1400    0.369   91.972               4  \n",
              "2    0.0732    0.774  139.130               4  \n",
              "3    0.2460    0.315  102.043               4  \n",
              "4    0.0871    0.422   82.520               4  "
            ],
            "text/html": [
              "\n",
              "  <div id=\"df-96cb96f8-3d94-4543-bc34-c3e198dd0ad1\" class=\"colab-df-container\">\n",
              "    <div>\n",
              "<style scoped>\n",
              "    .dataframe tbody tr th:only-of-type {\n",
              "        vertical-align: middle;\n",
              "    }\n",
              "\n",
              "    .dataframe tbody tr th {\n",
              "        vertical-align: top;\n",
              "    }\n",
              "\n",
              "    .dataframe thead th {\n",
              "        text-align: right;\n",
              "    }\n",
              "</style>\n",
              "<table border=\"1\" class=\"dataframe\">\n",
              "  <thead>\n",
              "    <tr style=\"text-align: right;\">\n",
              "      <th></th>\n",
              "      <th>Artistes</th>\n",
              "      <th>songs</th>\n",
              "      <th>url</th>\n",
              "      <th>id</th>\n",
              "      <th>image_path</th>\n",
              "      <th>Streamed/Non-Streamed</th>\n",
              "      <th>danceability</th>\n",
              "      <th>energy</th>\n",
              "      <th>key</th>\n",
              "      <th>loudness</th>\n",
              "      <th>mode</th>\n",
              "      <th>speechiness</th>\n",
              "      <th>acousticness</th>\n",
              "      <th>instrumentalness</th>\n",
              "      <th>liveness</th>\n",
              "      <th>valence</th>\n",
              "      <th>tempo</th>\n",
              "      <th>time_signature</th>\n",
              "    </tr>\n",
              "  </thead>\n",
              "  <tbody>\n",
              "    <tr>\n",
              "      <th>0</th>\n",
              "      <td>Natalie Imbruglia</td>\n",
              "      <td>On My Way</td>\n",
              "      <td>https://www.youtube.com/watch?v=hhnBDkgLJPg</td>\n",
              "      <td>0DEJ9GEuWuGFMR1GhPORnY</td>\n",
              "      <td>On My Way.png</td>\n",
              "      <td>0</td>\n",
              "      <td>0.633</td>\n",
              "      <td>0.690</td>\n",
              "      <td>7</td>\n",
              "      <td>-4.397</td>\n",
              "      <td>1</td>\n",
              "      <td>0.0298</td>\n",
              "      <td>0.02460</td>\n",
              "      <td>0.000005</td>\n",
              "      <td>0.1310</td>\n",
              "      <td>0.631</td>\n",
              "      <td>103.003</td>\n",
              "      <td>4</td>\n",
              "    </tr>\n",
              "    <tr>\n",
              "      <th>1</th>\n",
              "      <td>OFFICIAL HIGE DANDISM</td>\n",
              "      <td>Pretender</td>\n",
              "      <td>https://www.youtube.com/watch?v=MbhyzQiRFXY</td>\n",
              "      <td>15HNdxGKNCIO9pgaY4n7FU</td>\n",
              "      <td>Pretender (歌詞) official髭男dism.png</td>\n",
              "      <td>1</td>\n",
              "      <td>0.538</td>\n",
              "      <td>0.869</td>\n",
              "      <td>8</td>\n",
              "      <td>-3.464</td>\n",
              "      <td>1</td>\n",
              "      <td>0.0275</td>\n",
              "      <td>0.04700</td>\n",
              "      <td>0.000000</td>\n",
              "      <td>0.1400</td>\n",
              "      <td>0.369</td>\n",
              "      <td>91.972</td>\n",
              "      <td>4</td>\n",
              "    </tr>\n",
              "    <tr>\n",
              "      <th>2</th>\n",
              "      <td>Bryan Adams</td>\n",
              "      <td>Summer Of '69</td>\n",
              "      <td>https://www.youtube.com/watch?v=eFjjO_lhf9c</td>\n",
              "      <td>0GONea6G2XdnHWjNZd6zt3</td>\n",
              "      <td>Summer Of 69.png</td>\n",
              "      <td>1</td>\n",
              "      <td>0.509</td>\n",
              "      <td>0.834</td>\n",
              "      <td>2</td>\n",
              "      <td>-6.205</td>\n",
              "      <td>1</td>\n",
              "      <td>0.0386</td>\n",
              "      <td>0.01830</td>\n",
              "      <td>0.000000</td>\n",
              "      <td>0.0732</td>\n",
              "      <td>0.774</td>\n",
              "      <td>139.130</td>\n",
              "      <td>4</td>\n",
              "    </tr>\n",
              "    <tr>\n",
              "      <th>3</th>\n",
              "      <td>Fuse ODG</td>\n",
              "      <td>What it do</td>\n",
              "      <td>https://www.youtube.com/watch?v=gTyLD5gHAbg</td>\n",
              "      <td>2V3mQTPHYkxbkYxXMjnKFA</td>\n",
              "      <td>What It Do.png</td>\n",
              "      <td>0</td>\n",
              "      <td>0.834</td>\n",
              "      <td>0.878</td>\n",
              "      <td>7</td>\n",
              "      <td>-3.369</td>\n",
              "      <td>1</td>\n",
              "      <td>0.1200</td>\n",
              "      <td>0.00313</td>\n",
              "      <td>0.149000</td>\n",
              "      <td>0.2460</td>\n",
              "      <td>0.315</td>\n",
              "      <td>102.043</td>\n",
              "      <td>4</td>\n",
              "    </tr>\n",
              "    <tr>\n",
              "      <th>4</th>\n",
              "      <td>Édith Piaf</td>\n",
              "      <td>La vie en rose</td>\n",
              "      <td>https://www.youtube.com/watch?v=rzeLynj1GYM</td>\n",
              "      <td>4FmiciU3ZmfgABlbCSXcWw</td>\n",
              "      <td>La Vie en rose.png</td>\n",
              "      <td>1</td>\n",
              "      <td>0.390</td>\n",
              "      <td>0.302</td>\n",
              "      <td>8</td>\n",
              "      <td>-8.687</td>\n",
              "      <td>1</td>\n",
              "      <td>0.0321</td>\n",
              "      <td>0.98400</td>\n",
              "      <td>0.000000</td>\n",
              "      <td>0.0871</td>\n",
              "      <td>0.422</td>\n",
              "      <td>82.520</td>\n",
              "      <td>4</td>\n",
              "    </tr>\n",
              "  </tbody>\n",
              "</table>\n",
              "</div>\n",
              "    <div class=\"colab-df-buttons\">\n",
              "\n",
              "  <div class=\"colab-df-container\">\n",
              "    <button class=\"colab-df-convert\" onclick=\"convertToInteractive('df-96cb96f8-3d94-4543-bc34-c3e198dd0ad1')\"\n",
              "            title=\"Convert this dataframe to an interactive table.\"\n",
              "            style=\"display:none;\">\n",
              "\n",
              "  <svg xmlns=\"http://www.w3.org/2000/svg\" height=\"24px\" viewBox=\"0 -960 960 960\">\n",
              "    <path d=\"M120-120v-720h720v720H120Zm60-500h600v-160H180v160Zm220 220h160v-160H400v160Zm0 220h160v-160H400v160ZM180-400h160v-160H180v160Zm440 0h160v-160H620v160ZM180-180h160v-160H180v160Zm440 0h160v-160H620v160Z\"/>\n",
              "  </svg>\n",
              "    </button>\n",
              "\n",
              "  <style>\n",
              "    .colab-df-container {\n",
              "      display:flex;\n",
              "      gap: 12px;\n",
              "    }\n",
              "\n",
              "    .colab-df-convert {\n",
              "      background-color: #E8F0FE;\n",
              "      border: none;\n",
              "      border-radius: 50%;\n",
              "      cursor: pointer;\n",
              "      display: none;\n",
              "      fill: #1967D2;\n",
              "      height: 32px;\n",
              "      padding: 0 0 0 0;\n",
              "      width: 32px;\n",
              "    }\n",
              "\n",
              "    .colab-df-convert:hover {\n",
              "      background-color: #E2EBFA;\n",
              "      box-shadow: 0px 1px 2px rgba(60, 64, 67, 0.3), 0px 1px 3px 1px rgba(60, 64, 67, 0.15);\n",
              "      fill: #174EA6;\n",
              "    }\n",
              "\n",
              "    .colab-df-buttons div {\n",
              "      margin-bottom: 4px;\n",
              "    }\n",
              "\n",
              "    [theme=dark] .colab-df-convert {\n",
              "      background-color: #3B4455;\n",
              "      fill: #D2E3FC;\n",
              "    }\n",
              "\n",
              "    [theme=dark] .colab-df-convert:hover {\n",
              "      background-color: #434B5C;\n",
              "      box-shadow: 0px 1px 3px 1px rgba(0, 0, 0, 0.15);\n",
              "      filter: drop-shadow(0px 1px 2px rgba(0, 0, 0, 0.3));\n",
              "      fill: #FFFFFF;\n",
              "    }\n",
              "  </style>\n",
              "\n",
              "    <script>\n",
              "      const buttonEl =\n",
              "        document.querySelector('#df-96cb96f8-3d94-4543-bc34-c3e198dd0ad1 button.colab-df-convert');\n",
              "      buttonEl.style.display =\n",
              "        google.colab.kernel.accessAllowed ? 'block' : 'none';\n",
              "\n",
              "      async function convertToInteractive(key) {\n",
              "        const element = document.querySelector('#df-96cb96f8-3d94-4543-bc34-c3e198dd0ad1');\n",
              "        const dataTable =\n",
              "          await google.colab.kernel.invokeFunction('convertToInteractive',\n",
              "                                                    [key], {});\n",
              "        if (!dataTable) return;\n",
              "\n",
              "        const docLinkHtml = 'Like what you see? Visit the ' +\n",
              "          '<a target=\"_blank\" href=https://colab.research.google.com/notebooks/data_table.ipynb>data table notebook</a>'\n",
              "          + ' to learn more about interactive tables.';\n",
              "        element.innerHTML = '';\n",
              "        dataTable['output_type'] = 'display_data';\n",
              "        await google.colab.output.renderOutput(dataTable, element);\n",
              "        const docLink = document.createElement('div');\n",
              "        docLink.innerHTML = docLinkHtml;\n",
              "        element.appendChild(docLink);\n",
              "      }\n",
              "    </script>\n",
              "  </div>\n",
              "\n",
              "\n",
              "<div id=\"df-68230fb1-4cb7-4a48-98c3-8bf5cdb6cef6\">\n",
              "  <button class=\"colab-df-quickchart\" onclick=\"quickchart('df-68230fb1-4cb7-4a48-98c3-8bf5cdb6cef6')\"\n",
              "            title=\"Suggest charts\"\n",
              "            style=\"display:none;\">\n",
              "\n",
              "<svg xmlns=\"http://www.w3.org/2000/svg\" height=\"24px\"viewBox=\"0 0 24 24\"\n",
              "     width=\"24px\">\n",
              "    <g>\n",
              "        <path d=\"M19 3H5c-1.1 0-2 .9-2 2v14c0 1.1.9 2 2 2h14c1.1 0 2-.9 2-2V5c0-1.1-.9-2-2-2zM9 17H7v-7h2v7zm4 0h-2V7h2v10zm4 0h-2v-4h2v4z\"/>\n",
              "    </g>\n",
              "</svg>\n",
              "  </button>\n",
              "\n",
              "<style>\n",
              "  .colab-df-quickchart {\n",
              "      --bg-color: #E8F0FE;\n",
              "      --fill-color: #1967D2;\n",
              "      --hover-bg-color: #E2EBFA;\n",
              "      --hover-fill-color: #174EA6;\n",
              "      --disabled-fill-color: #AAA;\n",
              "      --disabled-bg-color: #DDD;\n",
              "  }\n",
              "\n",
              "  [theme=dark] .colab-df-quickchart {\n",
              "      --bg-color: #3B4455;\n",
              "      --fill-color: #D2E3FC;\n",
              "      --hover-bg-color: #434B5C;\n",
              "      --hover-fill-color: #FFFFFF;\n",
              "      --disabled-bg-color: #3B4455;\n",
              "      --disabled-fill-color: #666;\n",
              "  }\n",
              "\n",
              "  .colab-df-quickchart {\n",
              "    background-color: var(--bg-color);\n",
              "    border: none;\n",
              "    border-radius: 50%;\n",
              "    cursor: pointer;\n",
              "    display: none;\n",
              "    fill: var(--fill-color);\n",
              "    height: 32px;\n",
              "    padding: 0;\n",
              "    width: 32px;\n",
              "  }\n",
              "\n",
              "  .colab-df-quickchart:hover {\n",
              "    background-color: var(--hover-bg-color);\n",
              "    box-shadow: 0 1px 2px rgba(60, 64, 67, 0.3), 0 1px 3px 1px rgba(60, 64, 67, 0.15);\n",
              "    fill: var(--button-hover-fill-color);\n",
              "  }\n",
              "\n",
              "  .colab-df-quickchart-complete:disabled,\n",
              "  .colab-df-quickchart-complete:disabled:hover {\n",
              "    background-color: var(--disabled-bg-color);\n",
              "    fill: var(--disabled-fill-color);\n",
              "    box-shadow: none;\n",
              "  }\n",
              "\n",
              "  .colab-df-spinner {\n",
              "    border: 2px solid var(--fill-color);\n",
              "    border-color: transparent;\n",
              "    border-bottom-color: var(--fill-color);\n",
              "    animation:\n",
              "      spin 1s steps(1) infinite;\n",
              "  }\n",
              "\n",
              "  @keyframes spin {\n",
              "    0% {\n",
              "      border-color: transparent;\n",
              "      border-bottom-color: var(--fill-color);\n",
              "      border-left-color: var(--fill-color);\n",
              "    }\n",
              "    20% {\n",
              "      border-color: transparent;\n",
              "      border-left-color: var(--fill-color);\n",
              "      border-top-color: var(--fill-color);\n",
              "    }\n",
              "    30% {\n",
              "      border-color: transparent;\n",
              "      border-left-color: var(--fill-color);\n",
              "      border-top-color: var(--fill-color);\n",
              "      border-right-color: var(--fill-color);\n",
              "    }\n",
              "    40% {\n",
              "      border-color: transparent;\n",
              "      border-right-color: var(--fill-color);\n",
              "      border-top-color: var(--fill-color);\n",
              "    }\n",
              "    60% {\n",
              "      border-color: transparent;\n",
              "      border-right-color: var(--fill-color);\n",
              "    }\n",
              "    80% {\n",
              "      border-color: transparent;\n",
              "      border-right-color: var(--fill-color);\n",
              "      border-bottom-color: var(--fill-color);\n",
              "    }\n",
              "    90% {\n",
              "      border-color: transparent;\n",
              "      border-bottom-color: var(--fill-color);\n",
              "    }\n",
              "  }\n",
              "</style>\n",
              "\n",
              "  <script>\n",
              "    async function quickchart(key) {\n",
              "      const quickchartButtonEl =\n",
              "        document.querySelector('#' + key + ' button');\n",
              "      quickchartButtonEl.disabled = true;  // To prevent multiple clicks.\n",
              "      quickchartButtonEl.classList.add('colab-df-spinner');\n",
              "      try {\n",
              "        const charts = await google.colab.kernel.invokeFunction(\n",
              "            'suggestCharts', [key], {});\n",
              "      } catch (error) {\n",
              "        console.error('Error during call to suggestCharts:', error);\n",
              "      }\n",
              "      quickchartButtonEl.classList.remove('colab-df-spinner');\n",
              "      quickchartButtonEl.classList.add('colab-df-quickchart-complete');\n",
              "    }\n",
              "    (() => {\n",
              "      let quickchartButtonEl =\n",
              "        document.querySelector('#df-68230fb1-4cb7-4a48-98c3-8bf5cdb6cef6 button');\n",
              "      quickchartButtonEl.style.display =\n",
              "        google.colab.kernel.accessAllowed ? 'block' : 'none';\n",
              "    })();\n",
              "  </script>\n",
              "</div>\n",
              "\n",
              "    </div>\n",
              "  </div>\n"
            ],
            "application/vnd.google.colaboratory.intrinsic+json": {
              "type": "dataframe",
              "variable_name": "data",
              "summary": "{\n  \"name\": \"data\",\n  \"rows\": 300,\n  \"fields\": [\n    {\n      \"column\": \"Artistes\",\n      \"properties\": {\n        \"dtype\": \"string\",\n        \"num_unique_values\": 195,\n        \"samples\": [\n          \"Les Balala\\u00efkas des Tziganes Russes\",\n          \"iKON\",\n          \"S\\u00e9rgio Mendes\"\n        ],\n        \"semantic_type\": \"\",\n        \"description\": \"\"\n      }\n    },\n    {\n      \"column\": \"songs\",\n      \"properties\": {\n        \"dtype\": \"string\",\n        \"num_unique_values\": 300,\n        \"samples\": [\n          \"Mirror Mirror\",\n          \"La Bamba - Single Version\",\n          \"Goosebumps\"\n        ],\n        \"semantic_type\": \"\",\n        \"description\": \"\"\n      }\n    },\n    {\n      \"column\": \"url\",\n      \"properties\": {\n        \"dtype\": \"string\",\n        \"num_unique_values\": 300,\n        \"samples\": [\n          \"https://www.youtube.com/watch?v=FZlBKl-spfY\",\n          \"https://www.youtube.com/watch?v=Coy8Hoa1DNw\",\n          \"https://www.youtube.com/watch?v=Dst9gZkq1a8\"\n        ],\n        \"semantic_type\": \"\",\n        \"description\": \"\"\n      }\n    },\n    {\n      \"column\": \"id\",\n      \"properties\": {\n        \"dtype\": \"string\",\n        \"num_unique_values\": 298,\n        \"samples\": [\n          \"0Pao4JPYYSmCbWXneQ26i7\",\n          \"2aEeghgUcnu75tzcolFMfs\",\n          \"0KKkJNfGyhkQ5aFogxQAPU\"\n        ],\n        \"semantic_type\": \"\",\n        \"description\": \"\"\n      }\n    },\n    {\n      \"column\": \"image_path\",\n      \"properties\": {\n        \"dtype\": \"string\",\n        \"num_unique_values\": 298,\n        \"samples\": [\n          \"Are You There.png\",\n          \"RITCHIE VALENS-LA BAMBA.png\",\n          \"Alice.png\"\n        ],\n        \"semantic_type\": \"\",\n        \"description\": \"\"\n      }\n    },\n    {\n      \"column\": \"Streamed/Non-Streamed\",\n      \"properties\": {\n        \"dtype\": \"number\",\n        \"std\": 0,\n        \"min\": 0,\n        \"max\": 1,\n        \"num_unique_values\": 2,\n        \"samples\": [\n          1,\n          0\n        ],\n        \"semantic_type\": \"\",\n        \"description\": \"\"\n      }\n    },\n    {\n      \"column\": \"danceability\",\n      \"properties\": {\n        \"dtype\": \"number\",\n        \"std\": 0.1613925084843525,\n        \"min\": 0.136,\n        \"max\": 0.923,\n        \"num_unique_values\": 225,\n        \"samples\": [\n          0.439,\n          0.557\n        ],\n        \"semantic_type\": \"\",\n        \"description\": \"\"\n      }\n    },\n    {\n      \"column\": \"energy\",\n      \"properties\": {\n        \"dtype\": \"number\",\n        \"std\": 0.19575994855484097,\n        \"min\": 0.06,\n        \"max\": 0.98,\n        \"num_unique_values\": 237,\n        \"samples\": [\n          0.443,\n          0.663\n        ],\n        \"semantic_type\": \"\",\n        \"description\": \"\"\n      }\n    },\n    {\n      \"column\": \"key\",\n      \"properties\": {\n        \"dtype\": \"number\",\n        \"std\": 3,\n        \"min\": 0,\n        \"max\": 11,\n        \"num_unique_values\": 12,\n        \"samples\": [\n          1,\n          10\n        ],\n        \"semantic_type\": \"\",\n        \"description\": \"\"\n      }\n    },\n    {\n      \"column\": \"loudness\",\n      \"properties\": {\n        \"dtype\": \"number\",\n        \"std\": 3.1070843809682867,\n        \"min\": -19.917,\n        \"max\": -1.763,\n        \"num_unique_values\": 292,\n        \"samples\": [\n          -14.887,\n          -6.346\n        ],\n        \"semantic_type\": \"\",\n        \"description\": \"\"\n      }\n    },\n    {\n      \"column\": \"mode\",\n      \"properties\": {\n        \"dtype\": \"number\",\n        \"std\": 0,\n        \"min\": 0,\n        \"max\": 1,\n        \"num_unique_values\": 2,\n        \"samples\": [\n          0,\n          1\n        ],\n        \"semantic_type\": \"\",\n        \"description\": \"\"\n      }\n    },\n    {\n      \"column\": \"speechiness\",\n      \"properties\": {\n        \"dtype\": \"number\",\n        \"std\": 0.08163437674233358,\n        \"min\": 0.0249,\n        \"max\": 0.422,\n        \"num_unique_values\": 253,\n        \"samples\": [\n          0.0514,\n          0.0868\n        ],\n        \"semantic_type\": \"\",\n        \"description\": \"\"\n      }\n    },\n    {\n      \"column\": \"acousticness\",\n      \"properties\": {\n        \"dtype\": \"number\",\n        \"std\": 0.2862538577896037,\n        \"min\": 0.000142,\n        \"max\": 0.987,\n        \"num_unique_values\": 277,\n        \"samples\": [\n          0.14,\n          0.123\n        ],\n        \"semantic_type\": \"\",\n        \"description\": \"\"\n      }\n    },\n    {\n      \"column\": \"instrumentalness\",\n      \"properties\": {\n        \"dtype\": \"number\",\n        \"std\": 0.09781568072885906,\n        \"min\": 0.0,\n        \"max\": 0.916,\n        \"num_unique_values\": 178,\n        \"samples\": [\n          0.00214,\n          0.00104\n        ],\n        \"semantic_type\": \"\",\n        \"description\": \"\"\n      }\n    },\n    {\n      \"column\": \"liveness\",\n      \"properties\": {\n        \"dtype\": \"number\",\n        \"std\": 0.15642973171966473,\n        \"min\": 0.0369,\n        \"max\": 0.973,\n        \"num_unique_values\": 215,\n        \"samples\": [\n          0.0892,\n          0.12\n        ],\n        \"semantic_type\": \"\",\n        \"description\": \"\"\n      }\n    },\n    {\n      \"column\": \"valence\",\n      \"properties\": {\n        \"dtype\": \"number\",\n        \"std\": 0.24649195369357288,\n        \"min\": 0.0382,\n        \"max\": 0.973,\n        \"num_unique_values\": 245,\n        \"samples\": [\n          0.649,\n          0.861\n        ],\n        \"semantic_type\": \"\",\n        \"description\": \"\"\n      }\n    },\n    {\n      \"column\": \"tempo\",\n      \"properties\": {\n        \"dtype\": \"number\",\n        \"std\": 29.72047437752701,\n        \"min\": 58.303,\n        \"max\": 199.907,\n        \"num_unique_values\": 294,\n        \"samples\": [\n          115.966,\n          130.013\n        ],\n        \"semantic_type\": \"\",\n        \"description\": \"\"\n      }\n    },\n    {\n      \"column\": \"time_signature\",\n      \"properties\": {\n        \"dtype\": \"number\",\n        \"std\": 0,\n        \"min\": 1,\n        \"max\": 5,\n        \"num_unique_values\": 4,\n        \"samples\": [\n          3,\n          5\n        ],\n        \"semantic_type\": \"\",\n        \"description\": \"\"\n      }\n    }\n  ]\n}"
            }
          },
          "metadata": {},
          "execution_count": 2
        }
      ]
    },
    {
      "cell_type": "code",
      "source": [
        "def preprocessing(root_dir_path,image_file_name, desired_width, desired_height):\n",
        "\n",
        "  #We open the image\n",
        "  image = root_dir_path + image_file_name\n",
        "  image = Image.open(image).convert('RGB')\n",
        "\n",
        "  #We resize the iimage\n",
        "  image = image.resize((desired_width, desired_height))\n",
        "\n",
        "  #We convert the image to an numpy array\n",
        "  image = np.array(image)\n",
        "\n",
        "  #We normalize the image\n",
        "  image = image/255.0\n",
        "\n",
        "  return image\n",
        "\n",
        "#In the dataset_ms_ls.xlsx file, we have a column with the images path of each song.\n",
        "#Since the images in the different spectrogram path are not in the same order as the dataset_ms_ls,\n",
        "#We have to make sure each line of dataset_ms_ls is attributed to the correct image\n",
        "#For this sake, we have the next function\n",
        "def images_from_dataset_path_1st_approach(dataset,hit_path,non_hit_path,spec_type='mel'):\n",
        "  images = []\n",
        "  if spec_type == 'mel':\n",
        "    h = 224\n",
        "    w = 224\n",
        "  else:\n",
        "    h = 256\n",
        "    w = 512\n",
        "  for i in range(len(dataset)):\n",
        "    if dataset['Streamed/Non-Streamed'][i] == 1:\n",
        "      images.append(preprocessing(hit_path,dataset['image_path'][i], w, h))\n",
        "    else:\n",
        "      images.append(preprocessing(non_hit_path,dataset['image_path'][i], w, h))\n",
        "  return np.array(images)"
      ],
      "metadata": {
        "id": "bUIndi6HW1zf"
      },
      "execution_count": 12,
      "outputs": []
    },
    {
      "cell_type": "code",
      "source": [
        "#We start by shuffling the dataset to make sure the model doesnot learn to predict based on the index\n",
        "data = data.sample(frac=1, random_state=42).reset_index(drop=True)\n",
        "#We drop the irrelevant columns for the random forest and create the target variable\n",
        "X = data.drop(columns=['Artistes', 'songs', 'url', 'id', 'image_path', 'Streamed/Non-Streamed'])\n",
        "y = data['Streamed/Non-Streamed']"
      ],
      "metadata": {
        "id": "OkBKzwzC5LY6"
      },
      "execution_count": 13,
      "outputs": []
    },
    {
      "cell_type": "markdown",
      "source": [
        "**MEL SPECTROGRAM - FIRST APPROACH**"
      ],
      "metadata": {
        "id": "x-lHU5I4SMe-"
      }
    },
    {
      "cell_type": "code",
      "source": [
        "#The path of the mel spectrograms for streamed and non streamed\n",
        "mel_spectrogram_hit_images_path_1st = '/content/drive/MyDrive/musics/mel-spectrograms hits/'\n",
        "mel_spectrogram_non_hit_images_path_1st = '/content/drive/MyDrive/musics/mel-spectrograms non hits/'"
      ],
      "metadata": {
        "id": "fEzTs7lWXBmr"
      },
      "execution_count": 14,
      "outputs": []
    },
    {
      "cell_type": "code",
      "source": [
        "#This numpy array of images is in the same order as data\n",
        "#So for example data['acousticness'][i] is the same song as mel_images_1st_approach[i]\n",
        "mel_images_1st_approach = images_from_dataset_path_1st_approach(data,mel_spectrogram_hit_images_path_1st,mel_spectrogram_non_hit_images_path_1st)"
      ],
      "metadata": {
        "id": "WQs4NggIv3w6"
      },
      "execution_count": 15,
      "outputs": []
    },
    {
      "cell_type": "code",
      "source": [
        "#This will be our callback function when the accuracy of the model will not change on 3 successives epochs\n",
        "early_stopping = EarlyStopping(\n",
        "    monitor='val_accuracy',\n",
        "    patience=3,\n",
        "    verbose=1,\n",
        "    restore_best_weights=True\n",
        ")\n",
        "\n",
        "mel_model = Sequential([\n",
        "    Conv2D(16, (5, 5), activation='relu', input_shape=(224, 224, 3)),\n",
        "    Dropout(0.25),\n",
        "    Conv2D(32, (5, 5), activation='relu'),\n",
        "    Conv2D(32, (5, 5), activation='relu'),\n",
        "    Dropout(0.25),\n",
        "    Conv2D(32, (70, 3), activation='relu'),\n",
        "    Dropout(0.25),\n",
        "    Conv2D(32, (70, 3), activation='relu'),\n",
        "    Dropout(0.25),\n",
        "    Conv2D(32, (70, 3), activation='relu'),\n",
        "    Dropout(0.25),\n",
        "    Flatten(),\n",
        "    Dense(256, activation='relu'),\n",
        "    Dropout(0.5),\n",
        "    Dense(128, activation='relu'),\n",
        "    Dropout(0.5),\n",
        "    Dense(1, activation='sigmoid')\n",
        "])\n",
        "\n",
        "# Compilation du modèle\n",
        "mel_model.compile(optimizer='adam',\n",
        "              loss='binary_crossentropy',\n",
        "              metrics=['accuracy'])\n",
        "\n",
        "# Entraînement du modèle\n",
        "mel_history = mel_model.fit(mel_images_1st_approach, y, epochs=15, batch_size=32, validation_split=0.20,\n",
        "                            callbacks=[early_stopping])"
      ],
      "metadata": {
        "colab": {
          "base_uri": "https://localhost:8080/"
        },
        "id": "gBSjGehSw5Le",
        "outputId": "6cc1fb6d-2189-4bae-9098-c7b19546438d"
      },
      "execution_count": 16,
      "outputs": [
        {
          "output_type": "stream",
          "name": "stdout",
          "text": [
            "Epoch 1/15\n",
            "8/8 [==============================] - 60s 4s/step - loss: 1.0891 - accuracy: 0.5208 - val_loss: 0.6922 - val_accuracy: 0.5333\n",
            "Epoch 2/15\n",
            "8/8 [==============================] - 4s 558ms/step - loss: 0.7187 - accuracy: 0.5208 - val_loss: 0.6927 - val_accuracy: 0.5333\n",
            "Epoch 3/15\n",
            "8/8 [==============================] - 4s 536ms/step - loss: 0.6935 - accuracy: 0.4792 - val_loss: 0.6932 - val_accuracy: 0.4667\n",
            "Epoch 4/15\n",
            "8/8 [==============================] - ETA: 0s - loss: 0.6934 - accuracy: 0.4750Restoring model weights from the end of the best epoch: 1.\n",
            "8/8 [==============================] - 4s 532ms/step - loss: 0.6934 - accuracy: 0.4750 - val_loss: 0.6933 - val_accuracy: 0.4667\n",
            "Epoch 4: early stopping\n"
          ]
        }
      ]
    },
    {
      "cell_type": "code",
      "source": [
        "# We extract the information we get from the Dense(128, activation='relu') layer\n",
        "mel_dense_output_model = Model(inputs=mel_model.input, outputs=mel_model.layers[-2].output)\n",
        "mel_features = mel_dense_output_model.predict(mel_images_1st_approach)\n",
        "print(mel_features.shape)"
      ],
      "metadata": {
        "colab": {
          "base_uri": "https://localhost:8080/"
        },
        "id": "dF_T6GyhxVf4",
        "outputId": "a1a408f9-411e-424d-a35c-9215a656f4a5"
      },
      "execution_count": 19,
      "outputs": [
        {
          "output_type": "stream",
          "name": "stdout",
          "text": [
            "10/10 [==============================] - 4s 376ms/step\n",
            "(300, 128)\n"
          ]
        }
      ]
    },
    {
      "cell_type": "code",
      "source": [
        "#We create a dataframe with the mel features extracted\n",
        "df_features_mel = pd.DataFrame(mel_features, columns=[f'feature_{i}' for i in range(mel_features.shape[1])])"
      ],
      "metadata": {
        "id": "8ERjpUZ0-Lq1"
      },
      "execution_count": 28,
      "outputs": []
    },
    {
      "cell_type": "markdown",
      "source": [
        "**CQT SPECTROGRAM - FIRST APPROACH**"
      ],
      "metadata": {
        "id": "QMnxgxwMSFc2"
      }
    },
    {
      "cell_type": "code",
      "source": [
        "cqt_spectrogram_hit_images_path_1st = '/content/drive/MyDrive/musics/new_cqt hits/'\n",
        "cqt_spectrogram_non_hit_images_path_1st = '/content/drive/MyDrive/musics/new_cqt non hits/'"
      ],
      "metadata": {
        "id": "ZU0HwHGPx_YH"
      },
      "execution_count": 20,
      "outputs": []
    },
    {
      "cell_type": "code",
      "source": [
        "cqt_images_1st_approach = images_from_dataset_path_1st_approach(data,cqt_spectrogram_hit_images_path_1st,cqt_spectrogram_non_hit_images_path_1st,'cqt')"
      ],
      "metadata": {
        "id": "G8NEep9yyT15"
      },
      "execution_count": 21,
      "outputs": []
    },
    {
      "cell_type": "code",
      "source": [
        "cqt_model = Sequential([\n",
        "    Conv2D(16, (5, 5), activation='relu', input_shape=(256, 512, 3)),\n",
        "    Dropout(0.25),\n",
        "    Conv2D(32, (5, 5), activation='relu'),\n",
        "    Conv2D(32, (5, 5), activation='relu'),\n",
        "    Dropout(0.25),\n",
        "    Conv2D(32, (70, 3), activation='relu'),\n",
        "    Dropout(0.25),\n",
        "    Conv2D(32, (70, 3), activation='relu'),\n",
        "    Dropout(0.25),\n",
        "    Conv2D(32, (70, 3), activation='relu'),\n",
        "    Dropout(0.25),\n",
        "    Flatten(),\n",
        "    Dense(256, activation='relu'),\n",
        "    Dropout(0.5),\n",
        "    Dense(128, activation='relu'),\n",
        "    Dropout(0.5),\n",
        "    Dense(1, activation='sigmoid')  # Couche de sortie binaire pour \"hit\" ou \"non hit\"\n",
        "])\n",
        "\n",
        "# Compilation du modèle\n",
        "cqt_model.compile(optimizer='adam',\n",
        "              loss='binary_crossentropy',\n",
        "              metrics=['accuracy'])\n",
        "\n",
        "# Entraînement du modèle\n",
        "cqt_history = cqt_model.fit(cqt_images_1st_approach, y, epochs=15, batch_size=32, validation_split=0.20,\n",
        "                            callbacks=[early_stopping])"
      ],
      "metadata": {
        "colab": {
          "base_uri": "https://localhost:8080/"
        },
        "id": "_fgckKZ-yi1h",
        "outputId": "ca939744-b486-48b0-fc53-14d91533c1a4"
      },
      "execution_count": 22,
      "outputs": [
        {
          "output_type": "stream",
          "name": "stdout",
          "text": [
            "Epoch 1/15\n",
            "8/8 [==============================] - 193s 13s/step - loss: 27.3635 - accuracy: 0.4958 - val_loss: 0.6924 - val_accuracy: 0.5333\n",
            "Epoch 2/15\n",
            "8/8 [==============================] - 29s 4s/step - loss: 0.6931 - accuracy: 0.4958 - val_loss: 0.6925 - val_accuracy: 0.5333\n",
            "Epoch 3/15\n",
            "8/8 [==============================] - 29s 4s/step - loss: 0.6934 - accuracy: 0.4917 - val_loss: 0.6926 - val_accuracy: 0.5333\n",
            "Epoch 4/15\n",
            "8/8 [==============================] - ETA: 0s - loss: 0.6933 - accuracy: 0.4917Restoring model weights from the end of the best epoch: 1.\n",
            "8/8 [==============================] - 29s 4s/step - loss: 0.6933 - accuracy: 0.4917 - val_loss: 0.6927 - val_accuracy: 0.5333\n",
            "Epoch 4: early stopping\n"
          ]
        }
      ]
    },
    {
      "cell_type": "code",
      "source": [
        "# We extract the information we get from the Dense(128, activation='relu') layer\n",
        "cqt_dense_output_model = Model(inputs=cqt_model.input, outputs=cqt_model.layers[-2].output)\n",
        "cqt_features = cqt_dense_output_model.predict(cqt_images_1st_approach)\n",
        "print(cqt_features.shape)"
      ],
      "metadata": {
        "id": "j4Lo4lna0oSU",
        "colab": {
          "base_uri": "https://localhost:8080/"
        },
        "outputId": "eccac607-1c12-4bd4-aa4c-1d7662db877c"
      },
      "execution_count": 24,
      "outputs": [
        {
          "output_type": "stream",
          "name": "stdout",
          "text": [
            "10/10 [==============================] - 17s 2s/step\n",
            "(300, 128)\n"
          ]
        }
      ]
    },
    {
      "cell_type": "code",
      "source": [
        "#We create a dataframe with the mel features extracted\n",
        "df_features_cqt = pd.DataFrame(cqt_features, columns=[f'feature_{i}' for i in range(cqt_features.shape[1])])"
      ],
      "metadata": {
        "id": "CHfDD1Rg-N3R"
      },
      "execution_count": 29,
      "outputs": []
    },
    {
      "cell_type": "markdown",
      "source": [
        "**GRADIENT BOOSTING CLASSIFIER**"
      ],
      "metadata": {
        "id": "V9jtN9fB9URW"
      }
    },
    {
      "cell_type": "code",
      "source": [
        "#We specify all the continuous vairables\n",
        "X_continuous = ['danceability','energy','loudness','speechiness','acousticness','instrumentalness','liveness','valence','tempo']"
      ],
      "metadata": {
        "id": "1YXJl_eW9yhX"
      },
      "execution_count": 71,
      "outputs": []
    },
    {
      "cell_type": "code",
      "source": [
        "#We specify all the categorical variables\n",
        "X_categorical = ['key','mode','time_signature']"
      ],
      "metadata": {
        "id": "n5oyene_90Ic"
      },
      "execution_count": 72,
      "outputs": []
    },
    {
      "cell_type": "code",
      "source": [
        "#We do a one hot encoding for all the categorical variables\n",
        "df_one_hot = pd.get_dummies(data[X_categorical], drop_first=True)"
      ],
      "metadata": {
        "id": "H5WxS3cF95x0"
      },
      "execution_count": 73,
      "outputs": []
    },
    {
      "cell_type": "code",
      "source": [
        "#Combination of the new features with our dataset features\n",
        "X = pd.concat([data[X_continuous], df_one_hot, df_features_mel,df_features_cqt], axis=1)"
      ],
      "metadata": {
        "id": "1PgaDSWG-ArD"
      },
      "execution_count": 74,
      "outputs": []
    },
    {
      "cell_type": "code",
      "source": [
        "#We divide the data to have a train data and a validation data\n",
        "X_train, X_val, y_train, y_val = train_test_split(X, y, test_size=0.2, random_state=42)"
      ],
      "metadata": {
        "id": "UiLAU5mR8bqG"
      },
      "execution_count": 75,
      "outputs": []
    },
    {
      "cell_type": "code",
      "source": [
        "#Pipeline configuration\n",
        "#In the pipeline, we will normalize the X. But it is not necessary since X features are normalized (only loudness, energy and tempo are not)\n",
        "pipeline = Pipeline([\n",
        "    ('scaler', StandardScaler()),\n",
        "    ('gb', GradientBoostingClassifier(random_state=42))\n",
        "])\n",
        "\n",
        "#Parameter grid configuration\n",
        "param_grid = {\n",
        "    'gb__n_estimators': [100, 200, 300, 400],\n",
        "    'gb__learning_rate': [0.01, 0.1, 0.2],\n",
        "    'gb__max_depth': [3, 5, 7],\n",
        "    'gb__min_samples_split': [2, 5, 10],\n",
        "    'gb__min_samples_leaf': [1, 2, 4]\n",
        "}\n",
        "\n",
        "#Grid Search execution\n",
        "grid_search = GridSearchCV(pipeline, param_grid, cv=5, scoring='accuracy', n_jobs=-1)\n",
        "grid_search.fit(X_train, y_train)"
      ],
      "metadata": {
        "colab": {
          "base_uri": "https://localhost:8080/",
          "height": 206
        },
        "id": "yp9NoKGc_51h",
        "outputId": "2d6a530d-da82-4fe4-f8bc-89872e6fa480"
      },
      "execution_count": 98,
      "outputs": [
        {
          "output_type": "stream",
          "name": "stderr",
          "text": [
            "/usr/local/lib/python3.10/dist-packages/joblib/externals/loky/backend/fork_exec.py:38: RuntimeWarning: os.fork() was called. os.fork() is incompatible with multithreaded code, and JAX is multithreaded, so this will likely lead to a deadlock.\n",
            "  pid = os.fork()\n"
          ]
        },
        {
          "output_type": "execute_result",
          "data": {
            "text/plain": [
              "GridSearchCV(cv=5,\n",
              "             estimator=Pipeline(steps=[('scaler', StandardScaler()),\n",
              "                                       ('gb',\n",
              "                                        GradientBoostingClassifier(random_state=42))]),\n",
              "             n_jobs=-1,\n",
              "             param_grid={'gb__learning_rate': [0.01, 0.1, 0.2],\n",
              "                         'gb__max_depth': [3, 5, 7],\n",
              "                         'gb__min_samples_leaf': [1, 2, 4],\n",
              "                         'gb__min_samples_split': [2, 5, 10],\n",
              "                         'gb__n_estimators': [100, 200, 300, 400]},\n",
              "             scoring='accuracy')"
            ],
            "text/html": [
              "<style>#sk-container-id-9 {color: black;background-color: white;}#sk-container-id-9 pre{padding: 0;}#sk-container-id-9 div.sk-toggleable {background-color: white;}#sk-container-id-9 label.sk-toggleable__label {cursor: pointer;display: block;width: 100%;margin-bottom: 0;padding: 0.3em;box-sizing: border-box;text-align: center;}#sk-container-id-9 label.sk-toggleable__label-arrow:before {content: \"▸\";float: left;margin-right: 0.25em;color: #696969;}#sk-container-id-9 label.sk-toggleable__label-arrow:hover:before {color: black;}#sk-container-id-9 div.sk-estimator:hover label.sk-toggleable__label-arrow:before {color: black;}#sk-container-id-9 div.sk-toggleable__content {max-height: 0;max-width: 0;overflow: hidden;text-align: left;background-color: #f0f8ff;}#sk-container-id-9 div.sk-toggleable__content pre {margin: 0.2em;color: black;border-radius: 0.25em;background-color: #f0f8ff;}#sk-container-id-9 input.sk-toggleable__control:checked~div.sk-toggleable__content {max-height: 200px;max-width: 100%;overflow: auto;}#sk-container-id-9 input.sk-toggleable__control:checked~label.sk-toggleable__label-arrow:before {content: \"▾\";}#sk-container-id-9 div.sk-estimator input.sk-toggleable__control:checked~label.sk-toggleable__label {background-color: #d4ebff;}#sk-container-id-9 div.sk-label input.sk-toggleable__control:checked~label.sk-toggleable__label {background-color: #d4ebff;}#sk-container-id-9 input.sk-hidden--visually {border: 0;clip: rect(1px 1px 1px 1px);clip: rect(1px, 1px, 1px, 1px);height: 1px;margin: -1px;overflow: hidden;padding: 0;position: absolute;width: 1px;}#sk-container-id-9 div.sk-estimator {font-family: monospace;background-color: #f0f8ff;border: 1px dotted black;border-radius: 0.25em;box-sizing: border-box;margin-bottom: 0.5em;}#sk-container-id-9 div.sk-estimator:hover {background-color: #d4ebff;}#sk-container-id-9 div.sk-parallel-item::after {content: \"\";width: 100%;border-bottom: 1px solid gray;flex-grow: 1;}#sk-container-id-9 div.sk-label:hover label.sk-toggleable__label {background-color: #d4ebff;}#sk-container-id-9 div.sk-serial::before {content: \"\";position: absolute;border-left: 1px solid gray;box-sizing: border-box;top: 0;bottom: 0;left: 50%;z-index: 0;}#sk-container-id-9 div.sk-serial {display: flex;flex-direction: column;align-items: center;background-color: white;padding-right: 0.2em;padding-left: 0.2em;position: relative;}#sk-container-id-9 div.sk-item {position: relative;z-index: 1;}#sk-container-id-9 div.sk-parallel {display: flex;align-items: stretch;justify-content: center;background-color: white;position: relative;}#sk-container-id-9 div.sk-item::before, #sk-container-id-9 div.sk-parallel-item::before {content: \"\";position: absolute;border-left: 1px solid gray;box-sizing: border-box;top: 0;bottom: 0;left: 50%;z-index: -1;}#sk-container-id-9 div.sk-parallel-item {display: flex;flex-direction: column;z-index: 1;position: relative;background-color: white;}#sk-container-id-9 div.sk-parallel-item:first-child::after {align-self: flex-end;width: 50%;}#sk-container-id-9 div.sk-parallel-item:last-child::after {align-self: flex-start;width: 50%;}#sk-container-id-9 div.sk-parallel-item:only-child::after {width: 0;}#sk-container-id-9 div.sk-dashed-wrapped {border: 1px dashed gray;margin: 0 0.4em 0.5em 0.4em;box-sizing: border-box;padding-bottom: 0.4em;background-color: white;}#sk-container-id-9 div.sk-label label {font-family: monospace;font-weight: bold;display: inline-block;line-height: 1.2em;}#sk-container-id-9 div.sk-label-container {text-align: center;}#sk-container-id-9 div.sk-container {/* jupyter's `normalize.less` sets `[hidden] { display: none; }` but bootstrap.min.css set `[hidden] { display: none !important; }` so we also need the `!important` here to be able to override the default hidden behavior on the sphinx rendered scikit-learn.org. See: https://github.com/scikit-learn/scikit-learn/issues/21755 */display: inline-block !important;position: relative;}#sk-container-id-9 div.sk-text-repr-fallback {display: none;}</style><div id=\"sk-container-id-9\" class=\"sk-top-container\"><div class=\"sk-text-repr-fallback\"><pre>GridSearchCV(cv=5,\n",
              "             estimator=Pipeline(steps=[(&#x27;scaler&#x27;, StandardScaler()),\n",
              "                                       (&#x27;gb&#x27;,\n",
              "                                        GradientBoostingClassifier(random_state=42))]),\n",
              "             n_jobs=-1,\n",
              "             param_grid={&#x27;gb__learning_rate&#x27;: [0.01, 0.1, 0.2],\n",
              "                         &#x27;gb__max_depth&#x27;: [3, 5, 7],\n",
              "                         &#x27;gb__min_samples_leaf&#x27;: [1, 2, 4],\n",
              "                         &#x27;gb__min_samples_split&#x27;: [2, 5, 10],\n",
              "                         &#x27;gb__n_estimators&#x27;: [100, 200, 300, 400]},\n",
              "             scoring=&#x27;accuracy&#x27;)</pre><b>In a Jupyter environment, please rerun this cell to show the HTML representation or trust the notebook. <br />On GitHub, the HTML representation is unable to render, please try loading this page with nbviewer.org.</b></div><div class=\"sk-container\" hidden><div class=\"sk-item sk-dashed-wrapped\"><div class=\"sk-label-container\"><div class=\"sk-label sk-toggleable\"><input class=\"sk-toggleable__control sk-hidden--visually\" id=\"sk-estimator-id-33\" type=\"checkbox\" ><label for=\"sk-estimator-id-33\" class=\"sk-toggleable__label sk-toggleable__label-arrow\">GridSearchCV</label><div class=\"sk-toggleable__content\"><pre>GridSearchCV(cv=5,\n",
              "             estimator=Pipeline(steps=[(&#x27;scaler&#x27;, StandardScaler()),\n",
              "                                       (&#x27;gb&#x27;,\n",
              "                                        GradientBoostingClassifier(random_state=42))]),\n",
              "             n_jobs=-1,\n",
              "             param_grid={&#x27;gb__learning_rate&#x27;: [0.01, 0.1, 0.2],\n",
              "                         &#x27;gb__max_depth&#x27;: [3, 5, 7],\n",
              "                         &#x27;gb__min_samples_leaf&#x27;: [1, 2, 4],\n",
              "                         &#x27;gb__min_samples_split&#x27;: [2, 5, 10],\n",
              "                         &#x27;gb__n_estimators&#x27;: [100, 200, 300, 400]},\n",
              "             scoring=&#x27;accuracy&#x27;)</pre></div></div></div><div class=\"sk-parallel\"><div class=\"sk-parallel-item\"><div class=\"sk-item\"><div class=\"sk-label-container\"><div class=\"sk-label sk-toggleable\"><input class=\"sk-toggleable__control sk-hidden--visually\" id=\"sk-estimator-id-34\" type=\"checkbox\" ><label for=\"sk-estimator-id-34\" class=\"sk-toggleable__label sk-toggleable__label-arrow\">estimator: Pipeline</label><div class=\"sk-toggleable__content\"><pre>Pipeline(steps=[(&#x27;scaler&#x27;, StandardScaler()),\n",
              "                (&#x27;gb&#x27;, GradientBoostingClassifier(random_state=42))])</pre></div></div></div><div class=\"sk-serial\"><div class=\"sk-item\"><div class=\"sk-serial\"><div class=\"sk-item\"><div class=\"sk-estimator sk-toggleable\"><input class=\"sk-toggleable__control sk-hidden--visually\" id=\"sk-estimator-id-35\" type=\"checkbox\" ><label for=\"sk-estimator-id-35\" class=\"sk-toggleable__label sk-toggleable__label-arrow\">StandardScaler</label><div class=\"sk-toggleable__content\"><pre>StandardScaler()</pre></div></div></div><div class=\"sk-item\"><div class=\"sk-estimator sk-toggleable\"><input class=\"sk-toggleable__control sk-hidden--visually\" id=\"sk-estimator-id-36\" type=\"checkbox\" ><label for=\"sk-estimator-id-36\" class=\"sk-toggleable__label sk-toggleable__label-arrow\">GradientBoostingClassifier</label><div class=\"sk-toggleable__content\"><pre>GradientBoostingClassifier(random_state=42)</pre></div></div></div></div></div></div></div></div></div></div></div></div>"
            ]
          },
          "metadata": {},
          "execution_count": 98
        }
      ]
    },
    {
      "cell_type": "code",
      "source": [
        "# Best parameters and best score\n",
        "best_params = grid_search.best_params_\n",
        "best_score = grid_search.best_score_\n",
        "\n",
        "# Evaluate the best model on the test set (we kept the name of the test variable as X_val but it is for test)\n",
        "best_model = grid_search.best_estimator_\n",
        "y_pred_best = best_model.predict(X_val)\n",
        "best_report = classification_report(y_val, y_pred_best)\n",
        "\n",
        "print(\"Best Parameters:\", best_params)\n",
        "print(\"Best Cross-Validation Score:\", best_score)\n",
        "print(\"Classification Report:\\n\", best_report)"
      ],
      "metadata": {
        "colab": {
          "base_uri": "https://localhost:8080/"
        },
        "id": "jacxqLw0Acfc",
        "outputId": "52d8cfc8-5b5a-4c8b-cab5-aa30ba3c20c0"
      },
      "execution_count": 99,
      "outputs": [
        {
          "output_type": "stream",
          "name": "stdout",
          "text": [
            "Best Parameters: {'gb__learning_rate': 0.1, 'gb__max_depth': 7, 'gb__min_samples_leaf': 1, 'gb__min_samples_split': 2, 'gb__n_estimators': 300}\n",
            "Best Cross-Validation Score: 0.5875\n",
            "Classification Report:\n",
            "               precision    recall  f1-score   support\n",
            "\n",
            "           0       0.61      0.57      0.59        30\n",
            "           1       0.59      0.63      0.61        30\n",
            "\n",
            "    accuracy                           0.60        60\n",
            "   macro avg       0.60      0.60      0.60        60\n",
            "weighted avg       0.60      0.60      0.60        60\n",
            "\n"
          ]
        }
      ]
    },
    {
      "cell_type": "code",
      "source": [
        "#We show the importances of the features - Note that, unlike the features from dataset, the other features are abstract features we obtain with the cqt and mel model\n",
        "features_gradient_boosting = X_train.columns\n",
        "important_features = pd.DataFrame({'Feature': features_gradient_boosting, 'Importance': best_model['gb'].feature_importances_})\n",
        "important_features = important_features.sort_values(by='Importance', ascending=False)\n",
        "\n",
        "#We print the top 20 features\n",
        "print(important_features[:40])"
      ],
      "metadata": {
        "colab": {
          "base_uri": "https://localhost:8080/"
        },
        "id": "zgzxY8C2pU5Q",
        "outputId": "d236dd78-3ae6-4fe5-9416-efcafd19cd6a"
      },
      "execution_count": 100,
      "outputs": [
        {
          "output_type": "stream",
          "name": "stdout",
          "text": [
            "              Feature  Importance\n",
            "64         feature_52    0.045517\n",
            "90         feature_78    0.037963\n",
            "51         feature_39    0.037651\n",
            "120       feature_108    0.035192\n",
            "100        feature_88    0.034686\n",
            "22         feature_10    0.034244\n",
            "40         feature_28    0.033518\n",
            "4        acousticness    0.033375\n",
            "73         feature_61    0.032687\n",
            "88         feature_76    0.032667\n",
            "122       feature_110    0.032090\n",
            "19          feature_7    0.029546\n",
            "9                 key    0.028862\n",
            "84         feature_72    0.027194\n",
            "7             valence    0.025301\n",
            "6            liveness    0.022237\n",
            "5    instrumentalness    0.021920\n",
            "33         feature_21    0.021125\n",
            "91         feature_79    0.019744\n",
            "14          feature_2    0.018328\n",
            "63         feature_51    0.018276\n",
            "104        feature_92    0.017994\n",
            "2            loudness    0.016662\n",
            "102        feature_90    0.014916\n",
            "60         feature_48    0.014436\n",
            "123       feature_111    0.013576\n",
            "121       feature_109    0.013556\n",
            "27         feature_15    0.013219\n",
            "31         feature_19    0.012826\n",
            "92         feature_80    0.011848\n",
            "106        feature_94    0.011660\n",
            "47         feature_35    0.010777\n",
            "57         feature_45    0.010729\n",
            "61         feature_49    0.009903\n",
            "65         feature_53    0.009693\n",
            "3         speechiness    0.009362\n",
            "30         feature_18    0.008896\n",
            "96         feature_84    0.008885\n",
            "1              energy    0.008553\n",
            "26         feature_14    0.008373\n"
          ]
        }
      ]
    },
    {
      "cell_type": "code",
      "source": [
        "# Visualiser les importances des caractéristiques\n",
        "plt.figure(figsize=(12, 8))\n",
        "sns.barplot(x='Importance', y='Feature', data=important_features[:40])\n",
        "plt.title('Importance des Caractéristiques')\n",
        "plt.show()"
      ],
      "metadata": {
        "colab": {
          "base_uri": "https://localhost:8080/",
          "height": 650
        },
        "id": "Kh51xOhTqCol",
        "outputId": "02d92a7c-44ab-4bc1-8b0a-42d33ec39011"
      },
      "execution_count": 101,
      "outputs": [
        {
          "output_type": "display_data",
          "data": {
            "text/plain": [
              "<Figure size 1200x800 with 1 Axes>"
            ],
            "image/png": "[encoded data removed]"
          },
          "metadata": {}
        }
      ]
    },
    {
      "cell_type": "markdown",
      "source": [
        "On peut remarquer que le modèle a su créer 7 features abstraites qui sont plus impactantes que la feature \"acousticness\".\n",
        "Dans les 40 premières features importantes, on remarque qu'il n'y a pas le \"mode\", ce qui peut être surprenant. Cependant , la valence fait partie des features importantes.  /  We can see that the model has created 7 abstract features that are more impactful than the “acousticness” feature.\n",
        "In the first 40 important features, we notice that “mode” is missing, which may be surprising. However, valence is one of the most important features."
      ],
      "metadata": {
        "id": "BerzxUorxCbc"
      }
    },
    {
      "cell_type": "code",
      "source": [
        "#We compute the confusion matrix\n",
        "cm = confusion_matrix(y_val, y_pred_best)\n",
        "\n",
        "#We compute ROC curve\n",
        "fpr, tpr, thresholds = roc_curve(y_val, y_pred_best)\n",
        "roc_auc = roc_auc_score(y_val, y_pred_best)"
      ],
      "metadata": {
        "id": "Kxz0MqoKx5hl"
      },
      "execution_count": 102,
      "outputs": []
    },
    {
      "cell_type": "code",
      "source": [
        "# Confusion matrix\n",
        "plt.figure(figsize=(12, 5))\n",
        "\n",
        "plt.subplot(1, 2, 1)\n",
        "sns.heatmap(cm, annot=True, fmt='d', cmap='Blues',\n",
        "            xticklabels=['Non-Streamed', 'Streamed'],\n",
        "            yticklabels=['Non-Streamed', 'Streamed'])\n",
        "plt.title('Confusion')\n",
        "plt.xlabel('Predicted')\n",
        "plt.ylabel('Actual')"
      ],
      "metadata": {
        "colab": {
          "base_uri": "https://localhost:8080/",
          "height": 504
        },
        "id": "O8UikBG7ybLd",
        "outputId": "470ef801-0f25-4aea-c2b7-5686bd05e904"
      },
      "execution_count": 107,
      "outputs": [
        {
          "output_type": "execute_result",
          "data": {
            "text/plain": [
              "Text(120.72222222222221, 0.5, 'Actual')"
            ]
          },
          "metadata": {},
          "execution_count": 107
        },
        {
          "output_type": "display_data",
          "data": {
            "text/plain": [
              "<Figure size 1200x500 with 2 Axes>"
            ],
            "image/png": "[encoded data removed]"
          },
          "metadata": {}
        }
      ]
    },
    {
      "cell_type": "markdown",
      "source": [
        "Sur les données qui ont servi de test (60), on remarque que :                  \n",
        "\n",
        "*   True Positive : Le modèle a correctement prédit 19 sons streamés / The model correctly predicted 19 streamed sounds\n",
        "\n",
        "\n",
        "*   True Negative : Le modèle a correctement prédit 17 sons non-streamés  / The model correctly predicted 17 non-streamed sounds\n",
        "\n",
        "\n",
        "*   False Negative : 13 sons non streamés ont été classés comme streamés / 13 unstreamed sounds were classified as streamed\n",
        "\n",
        "\n",
        "*   False Positive : 11 sons streamés ont été classés comme non-streamés  / 11 streamed sounds were classified as non-streamed\n",
        "\n",
        "\n",
        "Ceci nous donne effectivement une accuracy de 60% : (17+19)/(17+19+13+11)\n",
        "Le modèle prédit correctement plus d'échantillons que ce qui serait attendu par une prédiction aléatoire.\n",
        "Ca reste améliorable (en ajoutant des données et optimisant encore plus le modèle)\n",
        "\n",
        "This effectively gives us an accuracy of 60%: (17+19)/(17+19+13+11)\n",
        "The model correctly predicts more samples than would be expected from a random prediction.\n",
        "There's still room for improvement (by adding more data and further optimizing the model).\n",
        "\n"
      ],
      "metadata": {
        "id": "-cjwFzwP4skm"
      }
    },
    {
      "cell_type": "code",
      "source": [
        "# Plot ROC curve\n",
        "plt.subplot(1, 2, 2)\n",
        "plt.plot(fpr, tpr, color='blue', lw=2, label='ROC curve (area = %0.2f)' % roc_auc)\n",
        "plt.plot([0, 1], [0, 1], color='grey', lw=2, linestyle='--')\n",
        "plt.xlim([0.0, 1.0])\n",
        "plt.ylim([0.0, 1.05])\n",
        "plt.xlabel('False Positive Rate')\n",
        "plt.ylabel('True Positive Rate')\n",
        "plt.title('Courbe ROC')\n",
        "plt.legend(loc='lower right')\n",
        "\n",
        "plt.tight_layout()\n",
        "plt.show()"
      ],
      "metadata": {
        "colab": {
          "base_uri": "https://localhost:8080/",
          "height": 487
        },
        "id": "B1QMzbWvyiPg",
        "outputId": "e8eaf1c0-b91d-44f1-ad99-8a965f7ab1d6"
      },
      "execution_count": 108,
      "outputs": [
        {
          "output_type": "display_data",
          "data": {
            "text/plain": [
              "<Figure size 640x480 with 1 Axes>"
            ],
            "image/png": "[encoded data removed]"
          },
          "metadata": {}
        }
      ]
    },
    {
      "cell_type": "markdown",
      "source": [
        "On peut dire à partir de cette courbe ROC que le modèle a quand un même un faible pouvoir de discrimination mais il reste meilleur que le hasard.  / From this ROC curve, we can say that the model still has low discriminatory power, but is still better than chance."
      ],
      "metadata": {
        "id": "0Tu71l4h75IQ"
      }
    },
    {
      "cell_type": "markdown",
      "source": [
        "# **INTERPRETATION**"
      ],
      "metadata": {
        "id": "hf1WSAXutbYB"
      }
    },
    {
      "cell_type": "markdown",
      "source": [
        "Comme on a pu le constater, la précision des deux modèles convolutifs était très basse. Ceci peut-être dû à plusieurs facteurs :  la très faible quantité de données, ou la difficulté d'interpétation des features pour le modèle, ou même l'absence de caractéristiques discriminatives dans les spectrogrammes. Il faudrait dans un premier temps augmenter la quantité de données pour être vraiment fixé. Malheureusement, ceci réprésente un temps colossal. C'est une piste à explorer dans le futur.\n",
        "\n",
        "Cependant, les deux modèles nous ont permis d'extraire des features abstraites : 128 features abstraites pour chacun des spectrogrammes (MEL et CQT).\n",
        "On a ainsi pu combiner ces nouvelles features aux 12 autres features qu'on avait grâce à l'API de spotify, les 12 features qui sont dans le fichier dataset_msèls.xlsx.\n",
        "\n",
        "Avant la concaténation des 3 Dataframes (celle de la Mel, CQT, et Dataset_ms_ls), on avait vu qu'on atteignait un modèle avec une accuracy de 53% avec une Random Forest (avec des paramètres optimaux).\n",
        "\n",
        "Après la fusion de toutes les dataframes, qui réprésente indirectement l'ajout de nouvelles features (abstraites), on a un modèle avec une précision de 60% sur les données d'entrainement.              \n",
        "\n",
        "\n",
        "----------------------------------------------------------------\n",
        "As can be seen, the accuracy of both convolutional models was very low. This may be due to a number of factors: the very small amount of data, or the difficulty of interpetating features for the model, or even the absence of discriminative features in the spectrograms. The first step would be to increase the amount of data to be sure. Unfortunately, this would take an enormous amount of time. This is an avenue to be explored in the future.\n",
        "\n",
        "However, both models enabled us to extract abstract features: 128 abstract features for each of the spectrograms (MEL and CQT).\n",
        "We were then able to combine these new features with the 12 other features we had thanks to the spotify API, the 12 features in the dataset_msèls.xlsx file.\n",
        "\n",
        "Before concatenating the 3 dataframes (Mel's, CQT, and Dataset_ms_ls), we had seen that we had reached a model with an accuracy of 53% with a Random Forest (with optimal parameters).\n",
        "\n",
        "After merging all the dataframes, which indirectly represents the addition of new (abstract) features, we have a model with an accuracy of 60% on the training data.\n",
        "\n",
        "\n"
      ],
      "metadata": {
        "id": "X7DMK8K2twVZ"
      }
    },
    {
      "cell_type": "code",
      "source": [],
      "metadata": {
        "id": "bnJmh36ztdJE"
      },
      "execution_count": null,
      "outputs": []
    }
  ]
}